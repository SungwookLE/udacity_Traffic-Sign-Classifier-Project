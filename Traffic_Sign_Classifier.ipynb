{
 "cells": [
  {
   "cell_type": "markdown",
   "metadata": {},
   "source": [
    "# Self-Driving Car Engineer Nanodegree\n",
    "\n",
    "## Deep Learning\n",
    "\n",
    "## Project: Build a Traffic Sign Recognition Classifier\n",
    "\n",
    "In this notebook, a template is provided for you to implement your functionality in stages, which is required to successfully complete this project. If additional code is required that cannot be included in the notebook, be sure that the Python code is successfully imported and included in your submission if necessary. \n",
    "\n",
    "> **Note**: Once you have completed all of the code implementations, you need to finalize your work by exporting the iPython Notebook as an HTML document. Before exporting the notebook to html, all of the code cells need to have been run so that reviewers can see the final implementation and output. You can then export the notebook by using the menu above and navigating to  \\n\",\n",
    "    \"**File -> Download as -> HTML (.html)**. Include the finished document along with this notebook as your submission. \n",
    "\n",
    "In addition to implementing code, there is a writeup to complete. The writeup should be completed in a separate file, which can be either a markdown file or a pdf document. There is a [write up template](https://github.com/udacity/CarND-Traffic-Sign-Classifier-Project/blob/master/writeup_template.md) that can be used to guide the writing process. Completing the code template and writeup template will cover all of the [rubric points](https://review.udacity.com/#!/rubrics/481/view) for this project.\n",
    "\n",
    "The [rubric](https://review.udacity.com/#!/rubrics/481/view) contains \"Stand Out Suggestions\" for enhancing the project beyond the minimum requirements. The stand out suggestions are optional. If you decide to pursue the \"stand out suggestions\", you can include the code in this Ipython notebook and also discuss the results in the writeup file.\n",
    "\n",
    "\n",
    ">**Note:** Code and Markdown cells can be executed using the **Shift + Enter** keyboard shortcut. In addition, Markdown cells can be edited by typically double-clicking the cell to enter edit mode."
   ]
  },
  {
   "cell_type": "markdown",
   "metadata": {},
   "source": [
    "---\n",
    "## Step 0: Load The Data"
   ]
  },
  {
   "cell_type": "code",
   "execution_count": 1,
   "metadata": {},
   "outputs": [],
   "source": [
    "# Load pickled data\n",
    "import pickle\n",
    "\n",
    "# TODO: Fill this in based on where you saved the training and testing data\n",
    "\n",
    "training_file = '../data/train.p'\n",
    "validation_file='../data/valid.p'\n",
    "testing_file ='../data/test.p'\n",
    "\n",
    "with open(training_file, mode='rb') as f:\n",
    "    train = pickle.load(f)\n",
    "with open(validation_file, mode='rb') as f:\n",
    "    valid = pickle.load(f)\n",
    "with open(testing_file, mode='rb') as f:\n",
    "    test = pickle.load(f)\n",
    "    \n",
    "X_train, y_train = train['features'], train['labels']\n",
    "X_valid, y_valid = valid['features'], valid['labels']\n",
    "X_test, y_test = test['features'], test['labels']"
   ]
  },
  {
   "cell_type": "markdown",
   "metadata": {},
   "source": [
    "---\n",
    "\n",
    "## Step 1: Dataset Summary & Exploration\n",
    "\n",
    "The pickled data is a dictionary with 4 key/value pairs:\n",
    "\n",
    "- `'features'` is a 4D array containing raw pixel data of the traffic sign images, (num examples, width, height, channels).\n",
    "- `'labels'` is a 1D array containing the label/class id of the traffic sign. The file `signnames.csv` contains id -> name mappings for each id.\n",
    "- `'sizes'` is a list containing tuples, (width, height) representing the original width and height the image.\n",
    "- `'coords'` is a list containing tuples, (x1, y1, x2, y2) representing coordinates of a bounding box around the sign in the image. **THESE COORDINATES ASSUME THE ORIGINAL IMAGE. THE PICKLED DATA CONTAINS RESIZED VERSIONS (32 by 32) OF THESE IMAGES**\n",
    "\n",
    "Complete the basic data summary below. Use python, numpy and/or pandas methods to calculate the data summary rather than hard coding the results. For example, the [pandas shape method](http://pandas.pydata.org/pandas-docs/stable/generated/pandas.DataFrame.shape.html) might be useful for calculating some of the summary results. "
   ]
  },
  {
   "cell_type": "markdown",
   "metadata": {},
   "source": [
    "### Provide a Basic Summary of the Data Set Using Python, Numpy and/or Pandas"
   ]
  },
  {
   "cell_type": "code",
   "execution_count": 2,
   "metadata": {},
   "outputs": [
    {
     "name": "stdout",
     "output_type": "stream",
     "text": [
      "Number of training examples = 34799\n",
      "Number of testing examples = 12630\n",
      "Image data shape = (32, 32, 3)\n",
      "Number of classes = 43\n"
     ]
    }
   ],
   "source": [
    "### Replace each question mark with the appropriate value. \n",
    "### Use python, pandas or numpy methods rather than hard coding the results\n",
    "import pandas as pd\n",
    "import numpy as np\n",
    "\n",
    "n_label_train=pd.DataFrame(y_train)\n",
    "n_label_train.drop_duplicates(inplace=True)\n",
    "train_info = pd.DataFrame({ 'num':  X_train.shape[0], 'size': X_train.shape[1:4]\n",
    "                            ,'n_class': len(n_label_train) }) \n",
    "\n",
    "n_label_valid=pd.DataFrame(y_valid)\n",
    "n_label_valid.drop_duplicates(inplace=True)\n",
    "valid_info = pd.DataFrame({ 'num':  X_valid.shape[0], 'size': X_valid.shape[1:4]\n",
    "                            ,'n_class': len(n_label_valid) }) \n",
    "\n",
    "n_label_test=pd.DataFrame(y_test)\n",
    "n_label_test.drop_duplicates(inplace=True)\n",
    "test_info = pd.DataFrame({ 'num':  X_test.shape[0], 'size': X_test.shape[1:4]\n",
    "                            ,'n_class': len(n_label_test) }) \n",
    "\n",
    "# TODO: Number of training examples\n",
    "n_train =train_info['num'][0]\n",
    "# TODO: Number of validation examples\n",
    "n_validation = valid_info['num'][0]\n",
    "# TODO: Number of testing examples.\n",
    "n_test = test_info['num'][0]\n",
    "\n",
    "# TODO: What's the shape of an traffic sign image?\n",
    "image_shape = train_info['size'][0], train_info['size'][1], train_info['size'][2]\n",
    "\n",
    "# TODO: How many unique classes/labels there are in the dataset.\n",
    "n_classes = train_info['n_class'][0]\n",
    "\n",
    "print(\"Number of training examples =\", n_train)\n",
    "print(\"Number of testing examples =\", n_test)\n",
    "print(\"Image data shape =\", image_shape)\n",
    "print(\"Number of classes =\", n_classes)\n"
   ]
  },
  {
   "cell_type": "markdown",
   "metadata": {},
   "source": [
    "### Include an exploratory visualization of the dataset"
   ]
  },
  {
   "cell_type": "markdown",
   "metadata": {},
   "source": [
    "Visualize the German Traffic Signs Dataset using the pickled file(s). This is open ended, suggestions include: plotting traffic sign images, plotting the count of each sign, etc. \n",
    "\n",
    "The [Matplotlib](http://matplotlib.org/) [examples](http://matplotlib.org/examples/index.html) and [gallery](http://matplotlib.org/gallery.html) pages are a great resource for doing visualizations in Python.\n",
    "\n",
    "**NOTE:** It's recommended you start with something simple first. If you wish to do more, come back to it after you've completed the rest of the sections. It can be interesting to look at the distribution of classes in the training, validation and test set. Is the distribution the same? Are there more examples of some classes than others?"
   ]
  },
  {
   "cell_type": "code",
   "execution_count": 3,
   "metadata": {},
   "outputs": [
    {
     "name": "stdout",
     "output_type": "stream",
     "text": [
      "(32, 32, 3)\n"
     ]
    },
    {
     "data": {
      "image/png": "[encoded data removed]",
      "text/plain": [
       "<matplotlib.figure.Figure at 0x7f361eea4240>"
      ]
     },
     "metadata": {
      "needs_background": "light"
     },
     "output_type": "display_data"
    }
   ],
   "source": [
    "### Data exploration visualization code goes here.\n",
    "### Feel free to use as many code cells as needed.\n",
    "import matplotlib.pyplot as plt\n",
    "# Visualizations will be shown in the notebook.\n",
    "%matplotlib inline\n",
    "\n",
    "sample_index = np.random.randint(train_info['num'][0])\n",
    "sample_file=X_train[sample_index].squeeze()\n",
    "\n",
    "print(sample_file.shape)\n",
    "fig, axs = plt.subplots(1, 2, figsize=(10, 5))\n",
    "axs[0].imshow(sample_file)\n",
    "axs[0].set_title( 'Sample Index:'+str(sample_index) + '  Label:'+str(y_train[sample_index])  )\n",
    "\n",
    "axs[1].grid()\n",
    "axs[1].hist(y_train )\n",
    "axs[1].set_title('Label Variation')\n",
    "\n",
    "plt.tight_layout()\n",
    "plt.show()\n",
    "\n",
    "from sklearn.utils import shuffle\n",
    "X_train, y_train = shuffle(X_train, y_train)\n"
   ]
  },
  {
   "cell_type": "markdown",
   "metadata": {},
   "source": [
    "----\n",
    "\n",
    "## Step 2: Design and Test a Model Architecture\n",
    "\n",
    "Design and implement a deep learning model that learns to recognize traffic signs. Train and test your model on the [German Traffic Sign Dataset](http://benchmark.ini.rub.de/?section=gtsrb&subsection=dataset).\n",
    "\n",
    "The LeNet-5 implementation shown in the [classroom](https://classroom.udacity.com/nanodegrees/nd013/parts/fbf77062-5703-404e-b60c-95b78b2f3f9e/modules/6df7ae49-c61c-4bb2-a23e-6527e69209ec/lessons/601ae704-1035-4287-8b11-e2c2716217ad/concepts/d4aca031-508f-4e0b-b493-e7b706120f81) at the end of the CNN lesson is a solid starting point. You'll have to change the number of classes and possibly the preprocessing, but aside from that it's plug and play! \n",
    "\n",
    "With the LeNet-5 solution from the lecture, you should expect a validation set accuracy of about 0.89. To meet specifications, the validation set accuracy will need to be at least 0.93. It is possible to get an even higher accuracy, but 0.93 is the minimum for a successful project submission. \n",
    "\n",
    "There are various aspects to consider when thinking about this problem:\n",
    "\n",
    "- Neural network architecture (is the network over or underfitting?)\n",
    "- Play around preprocessing techniques (normalization, rgb to grayscale, etc)\n",
    "- Number of examples per label (some have more than others).\n",
    "- Generate fake data.\n",
    "\n",
    "Here is an example of a [published baseline model on this problem](http://yann.lecun.com/exdb/publis/pdf/sermanet-ijcnn-11.pdf). It's not required to be familiar with the approach used in the paper but, it's good practice to try to read papers like these."
   ]
  },
  {
   "cell_type": "markdown",
   "metadata": {},
   "source": [
    "### Pre-process the Data Set (normalization, grayscale, etc.)"
   ]
  },
  {
   "cell_type": "markdown",
   "metadata": {},
   "source": [
    "Minimally, the image data should be normalized so that the data has mean zero and equal variance. For image data, `(pixel - 128)/ 128` is a quick way to approximately normalize the data and can be used in this project. \n",
    "\n",
    "Other pre-processing steps are optional. You can try different techniques to see if it improves performance. \n",
    "\n",
    "Use the code cell (or multiple code cells, if necessary) to implement the first step of your project."
   ]
  },
  {
   "cell_type": "code",
   "execution_count": 4,
   "metadata": {},
   "outputs": [
    {
     "name": "stdout",
     "output_type": "stream",
     "text": [
      "(34799, 32, 32, 3)\n"
     ]
    },
    {
     "data": {
      "image/png": "[encoded data removed]",
      "text/plain": [
       "<matplotlib.figure.Figure at 0x7f3650ef4d68>"
      ]
     },
     "metadata": {
      "needs_background": "light"
     },
     "output_type": "display_data"
    }
   ],
   "source": [
    "### Preprocess the data here. It is required to normalize the data. Other preprocessing steps could include \n",
    "### converting to grayscale, etc.\n",
    "### Feel free to use as many code cells as needed.\n",
    "import cv2\n",
    "\n",
    "def normalize_all(input):\n",
    "    normal=np.array((input[:,:,:,:]-128.0)/128.0)\n",
    "    return normal\n",
    "\n",
    "print(X_train.shape)\n",
    "feature_train = normalize_all(X_train)\n",
    "\n",
    "\n",
    "\n",
    "fig,ax = plt.subplots(1,3)\n",
    "ax[0].imshow(X_train[2220])\n",
    "ax[1].imshow(X_train[31439])\n",
    "ax[2].imshow(X_train[5370])\n",
    "plt.show()\n"
   ]
  },
  {
   "cell_type": "markdown",
   "metadata": {},
   "source": [
    "### Model Architecture"
   ]
  },
  {
   "cell_type": "code",
   "execution_count": 54,
   "metadata": {},
   "outputs": [],
   "source": [
    "### Define your architecture here.\n",
    "### Feel free to use as many code cells as needed.\n",
    "import tensorflow as tf\n",
    "from tensorflow.contrib.layers import flatten\n",
    "\n",
    "# CNN Neural Network(architecture)\n",
    "\n",
    "def LeNet_Custom(x, keep_prob=1):\n",
    "    mu = 0\n",
    "    sigma = 0.1\n",
    "    #keep_prob=0.5\n",
    "       \n",
    "    #Layer1 : Convolution, Input (32,32,3), Output (16,16,20)\n",
    "    weight_conv1 = tf.Variable(tf.truncated_normal([2,2,3,20], mean = mu, stddev = sigma))\n",
    "    bias_conv1 = tf.Variable(tf.zeros(20))\n",
    "    \n",
    "    conv1 = tf.nn.conv2d(x, weight_conv1, strides = [1,2,2,1], padding = 'VALID')\n",
    "    conv1 = tf.add ( conv1, bias_conv1)\n",
    "    conv1 = tf.nn.relu(conv1)\n",
    "    \n",
    "    #Pooling1: Max, Input (16,16,20), output (14,14,20)\n",
    "    pool1 = tf.nn.max_pool(conv1 , ksize=[1,3,3,1], strides=[1,1,1,1], padding = 'VALID')\n",
    "    \n",
    "    #Layer2: Convolution, Input (14,14,20), Output(8,8,20)\n",
    "    weight_conv2 = tf.Variable(tf.truncated_normal([7,7,20,20], mean=mu , stddev = sigma))\n",
    "    bias_conv2 = tf.Variable(tf.zeros(20))\n",
    "    \n",
    "    conv2 = tf.nn.conv2d( pool1, weight_conv2, strides=[1,1,1,1], padding = 'VALID')\n",
    "    conv2 = tf.add( conv2, bias_conv2)\n",
    "    conv2 = tf.nn.relu(conv2)\n",
    "    \n",
    "\n",
    "    #Pooling2: AVG, Input (8,8,20), output (6,6,20)\n",
    "    pool2 = tf.nn.avg_pool(conv2, ksize = [1,3,3,1], strides=[1,1,1,1], padding= 'VALID')\n",
    "    \n",
    "    #Flatten : 6x6x20 = 720\n",
    "    input_to_fc = tf.contrib.layers.flatten(pool2)\n",
    "        \n",
    "    #Fully Connected1: Input (720), output (400)\n",
    "    weight_fc1 = tf.Variable(tf.truncated_normal([720, 400], mean=mu, stddev = sigma))\n",
    "    bias_fc1 = tf.Variable(tf.zeros(400))\n",
    "    \n",
    "    fc1 = tf.matmul(input_to_fc, weight_fc1)\n",
    "    fc1 = tf.add(fc1, bias_fc1)\n",
    "    fc1 = tf.nn.relu(fc1)\n",
    "    fc1 = tf.nn.dropout(fc1, keep_prob)\n",
    "    \n",
    "    #Fully Connected2: Input (400), output (250)\n",
    "    weight_fc2 = tf.Variable(tf.truncated_normal([400,250], mean=mu, stddev=sigma))\n",
    "    bias_fc2 = tf.Variable(tf.zeros(250))\n",
    "    \n",
    "    fc2 = tf.matmul(fc1, weight_fc2)\n",
    "    fc2= tf.add(fc2, bias_fc2)\n",
    "    fc2 = tf.nn.relu(fc2)\n",
    "    fc2 = tf.nn.dropout(fc2, keep_prob)\n",
    "    \n",
    "    #Fully Connected3: Input (250), output (120)\n",
    "    weight_fc3 = tf.Variable(tf.truncated_normal([250,120], mean=mu, stddev=sigma))\n",
    "    bias_fc3 = tf.Variable(tf.zeros(120))\n",
    "    \n",
    "    fc3 = tf.matmul(fc2, weight_fc3)\n",
    "    fc3= tf.add(fc3, bias_fc3)\n",
    "    fc3 = tf.nn.relu(fc3)\n",
    "    fc3 = tf.nn.dropout(fc3, keep_prob)\n",
    "    \n",
    "    #Output Layer: Input (120), Label (43)\n",
    "    weight_out = tf.Variable(tf.truncated_normal([120,43], mean=mu, stddev = sigma))\n",
    "    bias_out = tf.Variable(tf.zeros(43))\n",
    "    \n",
    "    out = tf.matmul(fc3, weight_out)\n",
    "    out = tf.add(out, bias_out)\n",
    "    \n",
    "    logits= out\n",
    "    \n",
    "    weights_bundle =[  weight_fc1, weight_fc2, weight_fc3,weight_out ]\n",
    "    \n",
    "    # beta = 0.01\n",
    "    # regularizer = tf.nn.l2_loss(weight_conv1) + tf.nn.l2_loss(weight_conv2) +tf.nn.l2_loss(weight_fc1) \\\n",
    "    #           + tf.nn.l2_loss(weight_fc2) + tf.nn.l2_loss(weight_fc3) +tf.nn.l2_loss(weight_out)  \n",
    "\n",
    "    \n",
    "    return logits, conv1, conv2, weights_bundle\n",
    "\n",
    "x = tf.placeholder(tf.float32, (None, 32, 32, 3) )\n",
    "y = tf.placeholder(tf.int32, (None) )\n",
    "keep_prob = tf.placeholder(tf.float32)\n",
    "one_hot_y = tf.one_hot(y, 43)\n",
    "\n"
   ]
  },
  {
   "cell_type": "markdown",
   "metadata": {},
   "source": [
    "### Train, Validate and Test the Model"
   ]
  },
  {
   "cell_type": "markdown",
   "metadata": {},
   "source": [
    "A validation set can be used to assess how well the model is performing. A low accuracy on the training and validation\n",
    "sets imply underfitting. A high accuracy on the training set but low accuracy on the validation set implies overfitting."
   ]
  },
  {
   "cell_type": "code",
   "execution_count": 58,
   "metadata": {
    "scrolled": true
   },
   "outputs": [
    {
     "name": "stdout",
     "output_type": "stream",
     "text": [
      "Training...\n",
      "\n",
      "EPOCH 1 ...\n",
      "cross_entropy loss = 599.923773766\n",
      "Validation Accuracy = 0.476\n",
      "\n",
      "EPOCH 2 ...\n",
      "cross_entropy loss = 329.717924476\n",
      "Validation Accuracy = 0.631\n",
      "\n",
      "EPOCH 3 ...\n",
      "cross_entropy loss = 251.907316566\n",
      "Validation Accuracy = 0.701\n",
      "\n",
      "EPOCH 4 ...\n",
      "cross_entropy loss = 207.249355078\n",
      "Validation Accuracy = 0.733\n",
      "\n",
      "EPOCH 5 ...\n",
      "cross_entropy loss = 179.584890366\n",
      "Validation Accuracy = 0.764\n",
      "\n",
      "EPOCH 6 ...\n",
      "cross_entropy loss = 158.233652174\n",
      "Validation Accuracy = 0.779\n",
      "\n",
      "EPOCH 7 ...\n",
      "cross_entropy loss = 141.064166307\n",
      "Validation Accuracy = 0.815\n",
      "\n",
      "EPOCH 8 ...\n",
      "cross_entropy loss = 128.867201686\n",
      "Validation Accuracy = 0.818\n",
      "\n",
      "EPOCH 9 ...\n",
      "cross_entropy loss = 118.639624\n",
      "Validation Accuracy = 0.833\n",
      "\n",
      "EPOCH 10 ...\n",
      "cross_entropy loss = 111.085139394\n",
      "Validation Accuracy = 0.826\n",
      "\n",
      "EPOCH 11 ...\n",
      "cross_entropy loss = 103.814253718\n",
      "Validation Accuracy = 0.838\n",
      "\n",
      "EPOCH 12 ...\n",
      "cross_entropy loss = 97.5340005755\n",
      "Validation Accuracy = 0.838\n",
      "\n",
      "EPOCH 13 ...\n",
      "cross_entropy loss = 94.2447074652\n",
      "Validation Accuracy = 0.834\n",
      "\n",
      "EPOCH 14 ...\n",
      "cross_entropy loss = 88.1474115551\n",
      "Validation Accuracy = 0.837\n",
      "\n",
      "EPOCH 15 ...\n",
      "cross_entropy loss = 84.9470940828\n",
      "Validation Accuracy = 0.845\n",
      "\n",
      "EPOCH 16 ...\n",
      "cross_entropy loss = 82.5815504193\n",
      "Validation Accuracy = 0.863\n",
      "\n",
      "EPOCH 17 ...\n",
      "cross_entropy loss = 79.1210495234\n",
      "Validation Accuracy = 0.839\n",
      "\n",
      "EPOCH 18 ...\n",
      "cross_entropy loss = 78.3066178858\n",
      "Validation Accuracy = 0.859\n",
      "\n",
      "EPOCH 19 ...\n",
      "cross_entropy loss = 74.4854541719\n",
      "Validation Accuracy = 0.867\n",
      "\n",
      "EPOCH 20 ...\n",
      "cross_entropy loss = 72.9384288192\n",
      "Validation Accuracy = 0.863\n",
      "\n",
      "EPOCH 21 ...\n",
      "cross_entropy loss = 71.3895761967\n",
      "Validation Accuracy = 0.873\n",
      "\n",
      "EPOCH 22 ...\n",
      "cross_entropy loss = 69.670263052\n",
      "Validation Accuracy = 0.863\n",
      "\n",
      "EPOCH 23 ...\n",
      "cross_entropy loss = 68.1910140812\n",
      "Validation Accuracy = 0.849\n",
      "\n",
      "EPOCH 24 ...\n",
      "cross_entropy loss = 65.5743541121\n",
      "Validation Accuracy = 0.866\n",
      "\n",
      "EPOCH 25 ...\n",
      "cross_entropy loss = 65.5539722443\n",
      "Validation Accuracy = 0.875\n",
      "\n",
      "EPOCH 26 ...\n",
      "cross_entropy loss = 62.9098722339\n",
      "Validation Accuracy = 0.865\n",
      "\n",
      "EPOCH 27 ...\n",
      "cross_entropy loss = 63.3340435326\n",
      "Validation Accuracy = 0.866\n",
      "\n",
      "EPOCH 28 ...\n",
      "cross_entropy loss = 63.0030543208\n",
      "Validation Accuracy = 0.864\n",
      "\n",
      "EPOCH 29 ...\n",
      "cross_entropy loss = 60.6500828862\n",
      "Validation Accuracy = 0.866\n",
      "\n",
      "EPOCH 30 ...\n",
      "cross_entropy loss = 60.7708134055\n",
      "Validation Accuracy = 0.870\n",
      "\n",
      "EPOCH 31 ...\n",
      "cross_entropy loss = 59.7031381726\n",
      "Validation Accuracy = 0.875\n",
      "\n",
      "EPOCH 32 ...\n",
      "cross_entropy loss = 58.3504238129\n",
      "Validation Accuracy = 0.872\n",
      "\n",
      "EPOCH 33 ...\n",
      "cross_entropy loss = 58.9143960178\n",
      "Validation Accuracy = 0.870\n",
      "\n",
      "EPOCH 34 ...\n",
      "cross_entropy loss = 57.0300783813\n",
      "Validation Accuracy = 0.874\n",
      "\n",
      "EPOCH 35 ...\n",
      "cross_entropy loss = 56.7909428477\n",
      "Validation Accuracy = 0.885\n",
      "\n",
      "EPOCH 36 ...\n",
      "cross_entropy loss = 56.1516849101\n",
      "Validation Accuracy = 0.876\n",
      "\n",
      "EPOCH 37 ...\n",
      "cross_entropy loss = 54.8574041128\n",
      "Validation Accuracy = 0.884\n",
      "\n",
      "EPOCH 38 ...\n",
      "cross_entropy loss = 53.8057477474\n",
      "Validation Accuracy = 0.880\n",
      "\n",
      "EPOCH 39 ...\n",
      "cross_entropy loss = 53.0430437326\n",
      "Validation Accuracy = 0.876\n",
      "\n",
      "EPOCH 40 ...\n",
      "cross_entropy loss = 54.0748316646\n",
      "Validation Accuracy = 0.882\n",
      "\n",
      "EPOCH 41 ...\n",
      "cross_entropy loss = 53.8335973322\n",
      "Validation Accuracy = 0.885\n",
      "\n",
      "EPOCH 42 ...\n",
      "cross_entropy loss = 52.8798706979\n",
      "Validation Accuracy = 0.888\n",
      "\n",
      "EPOCH 43 ...\n",
      "cross_entropy loss = 52.4897185564\n",
      "Validation Accuracy = 0.868\n",
      "\n",
      "EPOCH 44 ...\n",
      "cross_entropy loss = 51.6978179514\n",
      "Validation Accuracy = 0.885\n",
      "\n",
      "EPOCH 45 ...\n",
      "cross_entropy loss = 51.5310483575\n",
      "Validation Accuracy = 0.873\n",
      "\n",
      "EPOCH 46 ...\n",
      "cross_entropy loss = 50.2705698758\n",
      "Validation Accuracy = 0.885\n",
      "\n",
      "EPOCH 47 ...\n",
      "cross_entropy loss = 51.3885011077\n",
      "Validation Accuracy = 0.888\n",
      "\n",
      "EPOCH 48 ...\n",
      "cross_entropy loss = 50.4460235238\n",
      "Validation Accuracy = 0.877\n",
      "\n",
      "EPOCH 49 ...\n",
      "cross_entropy loss = 50.0191447139\n",
      "Validation Accuracy = 0.890\n",
      "\n",
      "EPOCH 50 ...\n",
      "cross_entropy loss = 49.0692676902\n",
      "Validation Accuracy = 0.890\n",
      "\n",
      "Model saved\n",
      "INFO:tensorflow:Restoring parameters from ./custom\n",
      "Test Accuracy = 0.868\n"
     ]
    }
   ],
   "source": [
    "### Train your model here.\n",
    "### Calculate and report the accuracy on the training and validation set.\n",
    "### Once a final model architecture is selected, \n",
    "### the accuracy on the test set should be calculated and reported as well.\n",
    "### Feel free to use as many code cells as needed.\n",
    "EPOCHS = 50\n",
    "BATCH_SIZE = 200\n",
    "rate = 0.001\n",
    "beta = 0.001\n",
    "\n",
    "logits, conv1, conv2, weights_bundle = LeNet_Custom(x, keep_prob)\n",
    "cross_entropy = tf.nn.softmax_cross_entropy_with_logits(logits=logits, labels=one_hot_y )\n",
    "regularizer=0\n",
    "for i in range(len(weights_bundle)):\n",
    "    regularizer+= tf.nn.l2_loss(weights_bundle[i])\n",
    "loss_operation = tf.reduce_mean(cross_entropy+beta*regularizer)\n",
    "optimizer = tf.train.AdamOptimizer(learning_rate = rate)\n",
    "training_operation = optimizer.minimize(loss_operation)\n",
    "\n",
    "correct_prediction = tf.equal(tf.argmax(logits, 1), tf.argmax(one_hot_y, 1))\n",
    "accuracy_operation = tf.reduce_mean(tf.cast(correct_prediction, tf.float32))\n",
    "loss_set_forplot=[]\n",
    "accuracy_set_forplot=[]\n",
    "\n",
    "saver = tf.train.Saver()\n",
    "\n",
    "def evaluate(X_data, y_data):\n",
    "    num_examples = len(X_data)\n",
    "    X_data = normalize_all(X_data)\n",
    "    total_accuracy = 0\n",
    "    sess = tf.get_default_session()\n",
    "    for offset in range(0, num_examples, BATCH_SIZE):\n",
    "        batch_x, batch_y = X_data[offset:offset+BATCH_SIZE], y_data[offset:offset+BATCH_SIZE]\n",
    "        accuracy = sess.run(accuracy_operation, feed_dict={x: batch_x, y: batch_y, keep_prob:1})\n",
    "        total_accuracy += (accuracy * len(batch_x))\n",
    "    return total_accuracy / num_examples\n",
    "\n",
    "\n",
    "with tf.Session() as sess:\n",
    "    sess.run(tf.global_variables_initializer())\n",
    "    num_examples = X_train.shape[0]\n",
    "    print(\"Training...\")\n",
    "    print()\n",
    "    \n",
    "    for i in range(EPOCHS):\n",
    "        X_train_normal= normalize_all(X_train)\n",
    "        loss_log=0\n",
    "        for offset in range(0, num_examples, BATCH_SIZE):\n",
    "            end = offset + BATCH_SIZE\n",
    "            batch_x, batch_y = X_train_normal[offset:end], y_train[offset:end]\n",
    "            sess.run(training_operation, feed_dict={x: batch_x, y: batch_y, keep_prob:0.75})\n",
    "            loss_log+=sess.run(loss_operation, feed_dict={x: batch_x, y: batch_y, keep_prob:0.75} )\n",
    "            \n",
    "        loss_set_forplot.append(loss_log) #for plotting\n",
    "        validation_accuracy = evaluate(X_valid, y_valid)\n",
    "        accuracy_set_forplot.append(validation_accuracy) #for plotting\n",
    "        print(\"EPOCH {} ...\".format(i+1))\n",
    "        print(\"cross_entropy loss =\",loss_log)\n",
    "        print(\"Validation Accuracy = {:.3f}\".format(validation_accuracy))\n",
    "        print()\n",
    "        \n",
    "    saver.save(sess, './custom')\n",
    "    print(\"Model saved\")\n",
    "\n",
    "with tf.Session() as sess:\n",
    "    saver.restore(sess, tf.train.latest_checkpoint('.'))\n",
    "    test_accuracy = evaluate(X_test, y_test)\n",
    "    print(\"Test Accuracy = {:.3f}\".format(test_accuracy))\n",
    "    \n"
   ]
  },
  {
   "cell_type": "code",
   "execution_count": 60,
   "metadata": {},
   "outputs": [
    {
     "data": {
      "image/png": "[encoded data removed]",
      "text/plain": [
       "<matplotlib.figure.Figure at 0x7f34f8f28898>"
      ]
     },
     "metadata": {
      "needs_background": "light"
     },
     "output_type": "display_data"
    }
   ],
   "source": [
    "fig,ax = plt.subplots(1,2, figsize=(15,5))\n",
    "ax[0].plot(loss_set_forplot, 'o--', color='red', label='loss')\n",
    "ax[1].plot(accuracy_set_forplot, 'o-',  color='blue',label='accuracy')\n",
    "ax[0].set_xlabel('EPOCHS')\n",
    "ax[1].set_xlabel('EPOCHS')\n",
    "ax[0].grid()\n",
    "ax[1].grid()\n",
    "ax[0].legend()\n",
    "ax[1].legend()\n",
    "ax[0].set_title('Learning Loss')\n",
    "ax[1].set_title('Learning Accuracy')\n",
    "plt.show()\n",
    "fig.savefig('learn_monitor')"
   ]
  },
  {
   "cell_type": "markdown",
   "metadata": {},
   "source": [
    "---\n",
    "\n",
    "## Step 3: Test a Model on New Images\n",
    "\n",
    "To give yourself more insight into how your model is working, download at least five pictures of German traffic signs from the web and use your model to predict the traffic sign type.\n",
    "\n",
    "You may find `signnames.csv` useful as it contains mappings from the class id (integer) to the actual sign name."
   ]
  },
  {
   "cell_type": "code",
   "execution_count": 19,
   "metadata": {},
   "outputs": [],
   "source": [
    "# HERE IT IS ('20.11/30')"
   ]
  },
  {
   "cell_type": "markdown",
   "metadata": {},
   "source": [
    "### Load and Output the Images"
   ]
  },
  {
   "cell_type": "code",
   "execution_count": 20,
   "metadata": {},
   "outputs": [],
   "source": [
    "### Load the images and plot them here.\n",
    "### Feel free to use as many code cells as needed.\n",
    "signnames=pd.read_csv('signnames.csv')\n",
    "#print(signnames)\n"
   ]
  },
  {
   "cell_type": "markdown",
   "metadata": {},
   "source": [
    "### Predict the Sign Type for Each Image"
   ]
  },
  {
   "cell_type": "markdown",
   "metadata": {},
   "source": [
    "### Analyze Performance"
   ]
  },
  {
   "cell_type": "code",
   "execution_count": 21,
   "metadata": {},
   "outputs": [],
   "source": [
    "### Calculate the accuracy for these 5 new images. \n",
    "### For example, if the model predicted 1 out of 5 signs correctly, it's 20% accurate on these new images."
   ]
  },
  {
   "cell_type": "markdown",
   "metadata": {},
   "source": [
    "### Output Top 5 Softmax Probabilities For Each Image Found on the Web"
   ]
  },
  {
   "cell_type": "markdown",
   "metadata": {},
   "source": [
    "For each of the new images, print out the model's softmax probabilities to show the **certainty** of the model's predictions (limit the output to the top 5 probabilities for each image). [`tf.nn.top_k`](https://www.tensorflow.org/versions/r0.12/api_docs/python/nn.html#top_k) could prove helpful here. \n",
    "\n",
    "The example below demonstrates how tf.nn.top_k can be used to find the top k predictions for each image.\n",
    "\n",
    "`tf.nn.top_k` will return the values and indices (class ids) of the top k predictions. So if k=3, for each sign, it'll return the 3 largest probabilities (out of a possible 43) and the correspoding class ids.\n",
    "\n",
    "Take this numpy array as an example. The values in the array represent predictions. The array contains softmax probabilities for five candidate images with six possible classes. `tf.nn.top_k` is used to choose the three classes with the highest probability:\n",
    "\n",
    "```\n",
    "# (5, 6) array\n",
    "a = np.array([[ 0.24879643,  0.07032244,  0.12641572,  0.34763842,  0.07893497,\n",
    "         0.12789202],\n",
    "       [ 0.28086119,  0.27569815,  0.08594638,  0.0178669 ,  0.18063401,\n",
    "         0.15899337],\n",
    "       [ 0.26076848,  0.23664738,  0.08020603,  0.07001922,  0.1134371 ,\n",
    "         0.23892179],\n",
    "       [ 0.11943333,  0.29198961,  0.02605103,  0.26234032,  0.1351348 ,\n",
    "         0.16505091],\n",
    "       [ 0.09561176,  0.34396535,  0.0643941 ,  0.16240774,  0.24206137,\n",
    "         0.09155967]])\n",
    "```\n",
    "\n",
    "Running it through `sess.run(tf.nn.top_k(tf.constant(a), k=3))` produces:\n",
    "\n",
    "```\n",
    "TopKV2(values=array([[ 0.34763842,  0.24879643,  0.12789202],\n",
    "       [ 0.28086119,  0.27569815,  0.18063401],\n",
    "       [ 0.26076848,  0.23892179,  0.23664738],\n",
    "       [ 0.29198961,  0.26234032,  0.16505091],\n",
    "       [ 0.34396535,  0.24206137,  0.16240774]]), indices=array([[3, 0, 5],\n",
    "       [0, 1, 4],\n",
    "       [0, 5, 1],\n",
    "       [1, 3, 5],\n",
    "       [1, 4, 3]], dtype=int32))\n",
    "```\n",
    "\n",
    "Looking just at the first row we get `[ 0.34763842,  0.24879643,  0.12789202]`, you can confirm these are the 3 largest probabilities in `a`. You'll also notice `[3, 0, 5]` are the corresponding indices."
   ]
  },
  {
   "cell_type": "code",
   "execution_count": 22,
   "metadata": {},
   "outputs": [],
   "source": [
    "### Print out the top five softmax probabilities for the predictions on the German traffic sign images found on the web. \n",
    "### Feel free to use as many code cells as needed.\n",
    "\n",
    "# Show the upon cell, (12/1)"
   ]
  },
  {
   "cell_type": "markdown",
   "metadata": {},
   "source": [
    "### Project Writeup\n",
    "\n",
    "Once you have completed the code implementation, document your results in a project writeup using this [template](https://github.com/udacity/CarND-Traffic-Sign-Classifier-Project/blob/master/writeup_template.md) as a guide. The writeup can be in a markdown or pdf file. "
   ]
  },
  {
   "cell_type": "markdown",
   "metadata": {},
   "source": [
    "> **Note**: Once you have completed all of the code implementations and successfully answered each question above, you may finalize your work by exporting the iPython Notebook as an HTML document. You can do this by using the menu above and navigating to  \\n\",\n",
    "    \"**File -> Download as -> HTML (.html)**. Include the finished document along with this notebook as your submission."
   ]
  },
  {
   "cell_type": "markdown",
   "metadata": {},
   "source": [
    "---\n",
    "\n",
    "## Step 4 (Optional): Visualize the Neural Network's State with Test Images\n",
    "\n",
    " This Section is not required to complete but acts as an additional excersise for understaning the output of a neural network's weights. While neural networks can be a great learning device they are often referred to as a black box. We can understand what the weights of a neural network look like better by plotting their feature maps. After successfully training your neural network you can see what it's feature maps look like by plotting the output of the network's weight layers in response to a test stimuli image. From these plotted feature maps, it's possible to see what characteristics of an image the network finds interesting. For a sign, maybe the inner network feature maps react with high activation to the sign's boundary outline or to the contrast in the sign's painted symbol.\n",
    "\n",
    " Provided for you below is the function code that allows you to get the visualization output of any tensorflow weight layer you want. The inputs to the function should be a stimuli image, one used during training or a new one you provided, and then the tensorflow variable name that represents the layer's state during the training process, for instance if you wanted to see what the [LeNet lab's](https://classroom.udacity.com/nanodegrees/nd013/parts/fbf77062-5703-404e-b60c-95b78b2f3f9e/modules/6df7ae49-c61c-4bb2-a23e-6527e69209ec/lessons/601ae704-1035-4287-8b11-e2c2716217ad/concepts/d4aca031-508f-4e0b-b493-e7b706120f81) feature maps looked like for it's second convolutional layer you could enter conv2 as the tf_activation variable.\n",
    "\n",
    "For an example of what feature map outputs look like, check out NVIDIA's results in their paper [End-to-End Deep Learning for Self-Driving Cars](https://devblogs.nvidia.com/parallelforall/deep-learning-self-driving-cars/) in the section Visualization of internal CNN State. NVIDIA was able to show that their network's inner weights had high activations to road boundary lines by comparing feature maps from an image with a clear path to one without. Try experimenting with a similar test to show that your trained network's weights are looking for interesting features, whether it's looking at differences in feature maps from images with or without a sign, or even what feature maps look like in a trained network vs a completely untrained one on the same sign image.\n",
    "\n",
    "<figure>\n",
    " <img src=\"visualize_cnn.png\" width=\"380\" alt=\"Combined Image\" />\n",
    " <figcaption>\n",
    " <p></p> \n",
    " <p style=\"text-align: center;\"> Your output should look something like this (above)</p> \n",
    " </figcaption>\n",
    "</figure>\n",
    " <p></p> \n"
   ]
  },
  {
   "cell_type": "code",
   "execution_count": 23,
   "metadata": {},
   "outputs": [],
   "source": [
    "### Visualize your network's feature maps here.\n",
    "### Feel free to use as many code cells as needed.\n",
    "\n",
    "# image_input: the test image being fed into the network to produce the feature maps\n",
    "# tf_activation: should be a tf variable name used during your training procedure that represents the calculated state of a specific weight layer\n",
    "# activation_min/max: can be used to view the activation contrast in more detail, by default matplot sets min and max to the actual min and max values of the output\n",
    "# plt_num: used to plot out multiple different weight feature map sets on the same block, just extend the plt number for each new feature map entry\n",
    "\n",
    "def outputFeatureMap(image_input, tf_activation, activation_min=-1, activation_max=-1 ,plt_num=1):\n",
    "    # Here make sure to preprocess your image_input in a way your network expects\n",
    "    # with size, normalization, ect if needed\n",
    "    # image_input =\n",
    "    # Note: x should be the same name as your network's tensorflow data placeholder variable\n",
    "    # If you get an error tf_activation is not defined it may be having trouble accessing the variable from inside a function\n",
    "    tf_activation=tf.convert_to_tensor(tf_activation)\n",
    "    \n",
    "    activation = tf_activation.eval(session=sess,feed_dict={x : image_input})\n",
    "    featuremaps = activation.shape[3]\n",
    "    plt.figure(plt_num, figsize=(15,15))\n",
    "    for featuremap in range(featuremaps):\n",
    "        plt.subplot(6,8, featuremap+1) # sets the number of feature maps to show on each row and column\n",
    "        plt.title('FeatureMap ' + str(featuremap)) # displays the feature map number\n",
    "        if activation_min != -1 & activation_max != -1:\n",
    "            plt.imshow(activation[0,:,:, featuremap], interpolation=\"nearest\", vmin =activation_min, vmax=activation_max, cmap=\"gray\")\n",
    "        elif activation_max != -1:\n",
    "            plt.imshow(activation[0,:,:, featuremap], interpolation=\"nearest\", vmax=activation_max, cmap=\"gray\")\n",
    "        elif activation_min !=-1:\n",
    "            plt.imshow(activation[0,:,:, featuremap], interpolation=\"nearest\", vmin=activation_min, cmap=\"gray\")\n",
    "        else:\n",
    "            plt.imshow(activation[0,:,:, featuremap], interpolation=\"nearest\", cmap=\"gray\")"
   ]
  },
  {
   "cell_type": "code",
   "execution_count": 61,
   "metadata": {},
   "outputs": [
    {
     "data": {
      "image/png": "[encoded data removed]",
      "text/plain": [
       "<matplotlib.figure.Figure at 0x7f3503d2c7b8>"
      ]
     },
     "metadata": {
      "needs_background": "light"
     },
     "output_type": "display_data"
    },
    {
     "name": "stdout",
     "output_type": "stream",
     "text": [
      "INFO:tensorflow:Restoring parameters from ./custom\n",
      "Prediction:\n",
      "30    Beware of ice/snow\n",
      "38            Keep right\n",
      "26       Traffic signals\n",
      "Name: SignName, dtype: object\n",
      "\n",
      "Label:\n",
      "11    Right-of-way at the next intersection\n",
      "38                               Keep right\n",
      "26                          Traffic signals\n",
      "Name: SignName, dtype: object\n",
      "\n",
      "--> Shuffle Accuracy: 66.7 % !!!\n",
      "\n",
      "[ 10.54724979  10.11912537   8.89488888   8.42269611   5.67473888] [30 23 11 21 12]\n",
      "[ 25.14685059  16.71307564  12.90427685   7.6689682    6.80554533] [38 34 36 40 13]\n",
      "[ 18.39761543  11.42961025   9.88287926   9.23745155   7.21417522] [26 18 27 30 19]\n"
     ]
    },
    {
     "data": {
      "image/png": "[encoded data removed]",
      "text/plain": [
       "<matplotlib.figure.Figure at 0x7f3539a31e48>"
      ]
     },
     "metadata": {
      "needs_background": "light"
     },
     "output_type": "display_data"
    },
    {
     "data": {
      "image/png": "[encoded data removed]",
      "text/plain": [
       "<matplotlib.figure.Figure at 0x7f355f3bf4e0>"
      ]
     },
     "metadata": {
      "needs_background": "light"
     },
     "output_type": "display_data"
    }
   ],
   "source": [
    "### Run the predictions here and use the model to output the prediction for each image.\n",
    "### Make sure to pre-process the images with the same pre-processing pipeline used earlier.\n",
    "### Feel free to use as many code cells as needed.\n",
    "\n",
    "index_shuffle_set = []\n",
    "#Using index_shuffle_set\n",
    "fig, ax = plt.subplots(1,3, figsize=(15,15))\n",
    "index_shuffle = np.random.randint(X_test.shape[0])\n",
    "index_shuffle_set.append(index_shuffle)\n",
    "\n",
    "ax[0].imshow(X_test[index_shuffle])\n",
    "ax[0].set_title( str( signnames.loc[y_test[index_shuffle]][1]) )\n",
    "\n",
    "index_shuffle = np.random.randint(X_test.shape[0])\n",
    "index_shuffle_set.append(index_shuffle)\n",
    "\n",
    "ax[1].imshow(X_test[index_shuffle])\n",
    "ax[1].set_title( str( signnames.loc[y_test[index_shuffle]][1]) )\n",
    "\n",
    "index_shuffle = np.random.randint(X_test.shape[0])\n",
    "index_shuffle_set.append(index_shuffle)\n",
    "\n",
    "ax[2].imshow(X_test[index_shuffle])\n",
    "ax[2].set_title( str( signnames.loc[y_test[index_shuffle]][1]) )\n",
    "plt.show()\n",
    "\n",
    "\n",
    "X_shuffle=X_test[index_shuffle_set]\n",
    "y_shuffle=y_test[index_shuffle_set]\n",
    "\n",
    "\n",
    "\n",
    "with tf.Session() as sess:\n",
    "    sess.run(tf.global_variables_initializer())\n",
    "    saver.restore(sess,'./custom')\n",
    "    \n",
    "    X_shuffle_normal=normalize_all(X_shuffle)\n",
    "    logi=sess.run(logits, feed_dict={x:X_shuffle_normal, keep_prob:1})\n",
    "    visual_conv1= sess.run(conv1, feed_dict={x:X_shuffle_normal, keep_prob:1} )\n",
    "    visual_conv2= sess.run(conv2, feed_dict={x:X_shuffle_normal, keep_prob:1} )\n",
    "    validation_accuracy = evaluate(X_shuffle, y_shuffle)\n",
    "    \n",
    "  \n",
    "    \n",
    "    outputFeatureMap(X_shuffle_normal, visual_conv1, activation_min=-1, activation_max=-1 ,plt_num=1)\n",
    "    outputFeatureMap(X_shuffle_normal, visual_conv2, activation_min=-1, activation_max=-1 ,plt_num=2)\n",
    "    TOP_logit=sess.run(tf.nn.top_k(logi, k=5))\n",
    "    \n",
    "    print('Prediction:',signnames[\"SignName\"].iloc[np.argmax(logi,1)], sep='\\n')\n",
    "    print()\n",
    "    print('Label:',signnames[\"SignName\"].iloc[y_shuffle], sep='\\n' ) \n",
    "    print()\n",
    "    \n",
    "    print(\"--> Shuffle Accuracy: {:.1f}\".format(validation_accuracy*100), '% !!!')\n",
    "    print()\n",
    "    for i in range(3):\n",
    "        print(TOP_logit[0][i], TOP_logit[1][i])\n",
    "    \n"
   ]
  },
  {
   "cell_type": "code",
   "execution_count": null,
   "metadata": {},
   "outputs": [],
   "source": []
  }
 ],
 "metadata": {
  "anaconda-cloud": {},
  "kernelspec": {
   "display_name": "Python 3",
   "language": "python",
   "name": "python3"
  },
  "language_info": {
   "codemirror_mode": {
    "name": "ipython",
    "version": 3
   },
   "file_extension": ".py",
   "mimetype": "text/x-python",
   "name": "python",
   "nbconvert_exporter": "python",
   "pygments_lexer": "ipython3",
   "version": "3.6.3"
  }
 },
 "nbformat": 4,
 "nbformat_minor": 1
}
